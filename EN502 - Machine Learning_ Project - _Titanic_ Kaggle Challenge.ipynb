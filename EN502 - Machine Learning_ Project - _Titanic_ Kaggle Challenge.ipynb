{
 "cells": [
  {
   "cell_type": "markdown",
   "metadata": {
    "id": "hGmV2PRNGacR"
   },
   "source": [
    "# **EN502** - Machine Learning\n",
    "## Project: `Kaggle Titanic Challenge`\n",
    "\n",
    "---\n",
    "\n",
    "This `Python Notebook` predict whether a person onboard would have survived \"Titanic Disaster\", in accordance to the dataset provided.\n",
    "\n",
    "**Accuracy**: `80.382%` <br>\n",
    "**Kaggle Rank**: `500/14432` ⭐ TOP 3% ⭐\n",
    "\n",
    "||Team||\n",
    "|:--|:-:|--:|\n",
    "|Tanuj **Raghav**|19-11-EC-**027**|tanuj81_soe@jnu.ac.in|\n",
    "|Pragyan **Jaiminy**|19-11-EC-**028**|pragya32_soe@jnu.ac.in|\n",
    "|Pushpak **Prateek**|19-11-EC-**039**|pushpa89_soe@jnu.ac.in|"
   ]
  },
  {
   "cell_type": "code",
   "execution_count": null,
   "metadata": {
    "executionInfo": {
     "elapsed": 459,
     "status": "ok",
     "timestamp": 1638414979949,
     "user": {
      "displayName": "Tanuj Raghav",
      "photoUrl": "https://lh3.googleusercontent.com/a-/AOh14GhR_GiAA1mbPb-jfiGWpZvxLyNNKmezuuWqU1P9=s64",
      "userId": "13472300881317662443"
     },
     "user_tz": -330
    },
    "id": "noFvO-RaGact"
   },
   "outputs": [],
   "source": [
    "# Importing Libraries\n",
    "import pandas as pd\n",
    "import warnings"
   ]
  },
  {
   "cell_type": "code",
   "execution_count": null,
   "metadata": {
    "executionInfo": {
     "elapsed": 19,
     "status": "ok",
     "timestamp": 1638414980471,
     "user": {
      "displayName": "Tanuj Raghav",
      "photoUrl": "https://lh3.googleusercontent.com/a-/AOh14GhR_GiAA1mbPb-jfiGWpZvxLyNNKmezuuWqU1P9=s64",
      "userId": "13472300881317662443"
     },
     "user_tz": -330
    },
    "id": "DOv96gkJf_Rt"
   },
   "outputs": [],
   "source": [
    "warnings.filterwarnings('ignore')"
   ]
  },
  {
   "cell_type": "markdown",
   "metadata": {
    "id": "z7Fo9UmAGacu"
   },
   "source": [
    "## Understanding Training Dataset"
   ]
  },
  {
   "cell_type": "code",
   "execution_count": null,
   "metadata": {
    "colab": {
     "base_uri": "https://localhost:8080/",
     "height": 206
    },
    "executionInfo": {
     "elapsed": 707,
     "status": "ok",
     "timestamp": 1638414981161,
     "user": {
      "displayName": "Tanuj Raghav",
      "photoUrl": "https://lh3.googleusercontent.com/a-/AOh14GhR_GiAA1mbPb-jfiGWpZvxLyNNKmezuuWqU1P9=s64",
      "userId": "13472300881317662443"
     },
     "user_tz": -330
    },
    "id": "y3_tqEAQGacu",
    "outputId": "8567112e-8b6b-46c2-b0df-e2cd5e9ac2bf"
   },
   "outputs": [],
   "source": [
    "# Titanic Training Dataset\n",
    "train = pd.read_csv(\"https://gist.github.com/tanujraghav/b35f9f20d5f6bd6cf19ba5fa43c4616f/raw/550946ba89f4a8b0a32ee4725e0c98ebf722a13a/train.csv\")\n",
    "\n",
    "train.head()"
   ]
  },
  {
   "cell_type": "markdown",
   "metadata": {
    "id": "mjAH5mDYGacw"
   },
   "source": [
    "## Feature Engineering"
   ]
  },
  {
   "cell_type": "code",
   "execution_count": null,
   "metadata": {
    "executionInfo": {
     "elapsed": 25,
     "status": "ok",
     "timestamp": 1638414981163,
     "user": {
      "displayName": "Tanuj Raghav",
      "photoUrl": "https://lh3.googleusercontent.com/a-/AOh14GhR_GiAA1mbPb-jfiGWpZvxLyNNKmezuuWqU1P9=s64",
      "userId": "13472300881317662443"
     },
     "user_tz": -330
    },
    "id": "TfxozSO_Gacw"
   },
   "outputs": [],
   "source": [
    "def clean(df):\n",
    "\n",
    "  df['Title'] = df.Name.apply(lambda x: x.split(',')[1].split(' ')[1]).map({\n",
    "      'Mr.': 0, 'Dr.': 0,\n",
    "      'Major.': 1, 'Col.': 1, 'Capt.': 1,\n",
    "      'Mrs.': 2, 'Mme.': 2,\n",
    "      'Miss.': 3, 'Mlle.': 3, 'Ms.': 3,\n",
    "      'Master.': 4,\n",
    "      'Don.': 5, 'Dona.': 5, 'Rev.': 5, 'Jonkheer.': 5,\n",
    "      'Lady.': 6, 'Sir.': 6, 'the': 6\n",
    "      })\n",
    "\n",
    "  df['NameLen'] = df.Name.apply(lambda x: len(x))\n",
    "\n",
    "  df['Surname'] = df.Name.apply(lambda x: x.split(',')[0])\n",
    "\n",
    "  def all_died(surname):\n",
    "    if train[train.Surname == surname].Survived.count() < 2:\n",
    "      return 0\n",
    "    else:\n",
    "      if train[train.Surname == surname].Survived.sum() == 0:\n",
    "        return 1\n",
    "      else:\n",
    "        return 0\n",
    "\n",
    "  df['SurnameAllDied'] = df.Surname.apply(all_died)\n",
    "\n",
    "  def one_lived(surname):\n",
    "    if train[train.Surname == surname].Survived.count() < 2:\n",
    "      return 0\n",
    "    else:\n",
    "      if train[train.Surname == surname].Survived.sum() == 0:\n",
    "        return 0\n",
    "      else:\n",
    "        return 1\n",
    "\n",
    "  df['SurnameOneLived'] = df.Surname.apply(one_lived)\n",
    "\n",
    "  df.Sex = df.Sex.map({'female' :0, 'male': 1})\n",
    "\n",
    "  k = {}\n",
    "\n",
    "  for i in df.Title:\n",
    "    k[i] = df.Age[df.Age.notnull() & (df.Title == i)].mean()\n",
    "\n",
    "  for i, j in df.iterrows():\n",
    "    if j.Age != j.Age:\n",
    "      df.loc[i, 'Age'] = k[j.Title]\n",
    "\n",
    "  df.Age = pd.cut(df.Age, [0, 14, 24, 64, 80], labels = [0, 1, 2, 3])\n",
    "\n",
    "  df['FamilySize'] = df.SibSp + df.Parch + 1\n",
    "  df['FamilyType'] = pd.cut(df.FamilySize, [0, 1, 4, 7, 12], labels = [0, 1, 2, 3])\n",
    "\n",
    "  for i in range(1, 4):\n",
    "    x = df.Fare[df.Pclass == i]\n",
    "    df.Fare[df.Pclass == i] = pd.cut(x.fillna(x.median()), [x.min() - 0.01, x.median(), x.mean(), x.max() + 0.01], labels = [0, 1, 2])\n",
    "\n",
    "  df.Fare = df.Fare.map({0: 0, 1: 1, 2: 2})\n",
    "\n",
    "  df.Cabin.fillna(\"I123\", inplace = True)\n",
    "  df['Deck'] = df.Cabin.apply(lambda x: ord(x[0]) - 65).replace(19, 7)\n",
    "\n",
    "  df.Embarked = df.Embarked.fillna(df.Embarked.mode()[0]).map({'C': 0, 'Q': 1, 'S': 2})\n",
    "\n",
    "  df = df.drop(['Name', 'Ticket', 'Cabin'], axis = 1)\n",
    "\n",
    "  return df"
   ]
  },
  {
   "cell_type": "code",
   "execution_count": null,
   "metadata": {
    "colab": {
     "base_uri": "https://localhost:8080/",
     "height": 226
    },
    "executionInfo": {
     "elapsed": 2976,
     "status": "ok",
     "timestamp": 1638414984116,
     "user": {
      "displayName": "Tanuj Raghav",
      "photoUrl": "https://lh3.googleusercontent.com/a-/AOh14GhR_GiAA1mbPb-jfiGWpZvxLyNNKmezuuWqU1P9=s64",
      "userId": "13472300881317662443"
     },
     "user_tz": -330
    },
    "id": "BIOdC2b0Gacy",
    "outputId": "b8e9bccf-b0dd-4b54-f4f4-657696f5c6f0"
   },
   "outputs": [],
   "source": [
    "# Cleaning Training Dataset\n",
    "train = clean(train)\n",
    "\n",
    "train.head()"
   ]
  },
  {
   "cell_type": "markdown",
   "metadata": {
    "id": "r3c85KQ3Gacy"
   },
   "source": [
    "## Machine Learning"
   ]
  },
  {
   "cell_type": "code",
   "execution_count": null,
   "metadata": {
    "executionInfo": {
     "elapsed": 46,
     "status": "ok",
     "timestamp": 1638414984118,
     "user": {
      "displayName": "Tanuj Raghav",
      "photoUrl": "https://lh3.googleusercontent.com/a-/AOh14GhR_GiAA1mbPb-jfiGWpZvxLyNNKmezuuWqU1P9=s64",
      "userId": "13472300881317662443"
     },
     "user_tz": -330
    },
    "id": "Zh_MM3HpGacz"
   },
   "outputs": [],
   "source": [
    "# Accuracy Score Metric\n",
    "from sklearn.metrics import accuracy_score as acc"
   ]
  },
  {
   "cell_type": "code",
   "execution_count": null,
   "metadata": {
    "executionInfo": {
     "elapsed": 41,
     "status": "ok",
     "timestamp": 1638414984119,
     "user": {
      "displayName": "Tanuj Raghav",
      "photoUrl": "https://lh3.googleusercontent.com/a-/AOh14GhR_GiAA1mbPb-jfiGWpZvxLyNNKmezuuWqU1P9=s64",
      "userId": "13472300881317662443"
     },
     "user_tz": -330
    },
    "id": "WsxARwVaGac0"
   },
   "outputs": [],
   "source": [
    "# Splitting up Dataset into \"Dependent Variables\" and \"Independent Variables\"\n",
    "X = train.drop(['PassengerId', 'Survived', 'Surname'], axis=1)\n",
    "Y = train.Survived"
   ]
  },
  {
   "cell_type": "code",
   "execution_count": null,
   "metadata": {
    "colab": {
     "base_uri": "https://localhost:8080/"
    },
    "executionInfo": {
     "elapsed": 39,
     "status": "ok",
     "timestamp": 1638414984122,
     "user": {
      "displayName": "Tanuj Raghav",
      "photoUrl": "https://lh3.googleusercontent.com/a-/AOh14GhR_GiAA1mbPb-jfiGWpZvxLyNNKmezuuWqU1P9=s64",
      "userId": "13472300881317662443"
     },
     "user_tz": -330
    },
    "id": "vj3h94BQiEoH",
    "outputId": "108dc0de-d938-433d-d7e3-08e28d4b9f41"
   },
   "outputs": [],
   "source": [
    "# Logistic Regression: 80.382\n",
    "from sklearn.linear_model import LogisticRegression as LR\n",
    "\n",
    "model = LR(max_iter = 500, solver='sag').fit(X, Y)\n",
    "Z = model.predict(X)\n",
    "\n",
    "acc(Z, Y)"
   ]
  },
  {
   "cell_type": "markdown",
   "metadata": {
    "id": "BU_kYQnnGac7"
   },
   "source": [
    "## Predicting Survival Rate for Testing Dataset"
   ]
  },
  {
   "cell_type": "code",
   "execution_count": null,
   "metadata": {
    "colab": {
     "base_uri": "https://localhost:8080/",
     "height": 206
    },
    "executionInfo": {
     "elapsed": 26,
     "status": "ok",
     "timestamp": 1638414984124,
     "user": {
      "displayName": "Tanuj Raghav",
      "photoUrl": "https://lh3.googleusercontent.com/a-/AOh14GhR_GiAA1mbPb-jfiGWpZvxLyNNKmezuuWqU1P9=s64",
      "userId": "13472300881317662443"
     },
     "user_tz": -330
    },
    "id": "NrttEbPyGac7",
    "outputId": "3f9ac05c-b23c-4312-c42a-025610c3c294"
   },
   "outputs": [],
   "source": [
    "# Titanic Testing Dataset\n",
    "test = pd.read_csv(\"https://gist.github.com/tanujraghav/b35f9f20d5f6bd6cf19ba5fa43c4616f/raw/550946ba89f4a8b0a32ee4725e0c98ebf722a13a/test.csv\")\n",
    "\n",
    "test.head()"
   ]
  },
  {
   "cell_type": "code",
   "execution_count": null,
   "metadata": {
    "colab": {
     "base_uri": "https://localhost:8080/",
     "height": 206
    },
    "executionInfo": {
     "elapsed": 1522,
     "status": "ok",
     "timestamp": 1638414985623,
     "user": {
      "displayName": "Tanuj Raghav",
      "photoUrl": "https://lh3.googleusercontent.com/a-/AOh14GhR_GiAA1mbPb-jfiGWpZvxLyNNKmezuuWqU1P9=s64",
      "userId": "13472300881317662443"
     },
     "user_tz": -330
    },
    "id": "ga08MqrZGac9",
    "outputId": "8a83630f-9a39-4941-ec69-18bf26b9c836"
   },
   "outputs": [],
   "source": [
    "# Cleaning Testing Dataset\n",
    "test.Fare[test.Fare.isnull() == True] = test.Fare[test.Pclass == 3].median()\n",
    "test = clean(test)\n",
    "\n",
    "test.head()"
   ]
  },
  {
   "cell_type": "code",
   "execution_count": null,
   "metadata": {
    "colab": {
     "base_uri": "https://localhost:8080/"
    },
    "executionInfo": {
     "elapsed": 56,
     "status": "ok",
     "timestamp": 1638414985628,
     "user": {
      "displayName": "Tanuj Raghav",
      "photoUrl": "https://lh3.googleusercontent.com/a-/AOh14GhR_GiAA1mbPb-jfiGWpZvxLyNNKmezuuWqU1P9=s64",
      "userId": "13472300881317662443"
     },
     "user_tz": -330
    },
    "id": "wBhw_DH3Gac9",
    "outputId": "c88fc0c1-3d3d-4ec4-d7b2-9e9828456840"
   },
   "outputs": [],
   "source": [
    "# Predicting Survival Status for Test Dataset\n",
    "prediction = model.predict(test.drop(['PassengerId', 'Surname'], axis=1))\n",
    "\n",
    "prediction"
   ]
  },
  {
   "cell_type": "markdown",
   "metadata": {
    "id": "LKEvz1AxGac-"
   },
   "source": [
    "## Setting up Submission"
   ]
  },
  {
   "cell_type": "code",
   "execution_count": null,
   "metadata": {
    "colab": {
     "base_uri": "https://localhost:8080/",
     "height": 206
    },
    "executionInfo": {
     "elapsed": 43,
     "status": "ok",
     "timestamp": 1638414985631,
     "user": {
      "displayName": "Tanuj Raghav",
      "photoUrl": "https://lh3.googleusercontent.com/a-/AOh14GhR_GiAA1mbPb-jfiGWpZvxLyNNKmezuuWqU1P9=s64",
      "userId": "13472300881317662443"
     },
     "user_tz": -330
    },
    "id": "uWnzPJD7Gac-",
    "outputId": "f9102b60-cab9-470e-994f-7ff571112071"
   },
   "outputs": [],
   "source": [
    "submission = pd.DataFrame({\n",
    "    'PassengerId': test.PassengerId,\n",
    "    'Survived': prediction\n",
    "})\n",
    "\n",
    "submission.head()"
   ]
  },
  {
   "cell_type": "code",
   "execution_count": null,
   "metadata": {
    "executionInfo": {
     "elapsed": 7,
     "status": "ok",
     "timestamp": 1638414986302,
     "user": {
      "displayName": "Tanuj Raghav",
      "photoUrl": "https://lh3.googleusercontent.com/a-/AOh14GhR_GiAA1mbPb-jfiGWpZvxLyNNKmezuuWqU1P9=s64",
      "userId": "13472300881317662443"
     },
     "user_tz": -330
    },
    "id": "ctRfdK3XGac_"
   },
   "outputs": [],
   "source": [
    "submission.to_csv(\"submission.csv\", index = False)"
   ]
  },
  {
   "cell_type": "code",
   "execution_count": null,
   "metadata": {},
   "outputs": [],
   "source": []
  }
 ],
 "metadata": {
  "colab": {
   "authorship_tag": "ABX9TyMo+DcVS2RfjhVMK4EvJg8l",
   "collapsed_sections": [],
   "name": "EN502 - Machine Learning: Project - \"Titanic\" Kaggle Challenge.ipynb",
   "provenance": []
  },
  "kernelspec": {
   "display_name": "Python 3 (ipykernel)",
   "language": "python",
   "name": "python3"
  },
  "language_info": {
   "codemirror_mode": {
    "name": "ipython",
    "version": 3
   },
   "file_extension": ".py",
   "mimetype": "text/x-python",
   "name": "python",
   "nbconvert_exporter": "python",
   "pygments_lexer": "ipython3",
   "version": "3.8.10"
  }
 },
 "nbformat": 4,
 "nbformat_minor": 1
}
