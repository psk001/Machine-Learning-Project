{
 "cells": [
  {
   "cell_type": "markdown",
   "metadata": {
    "id": "hGmV2PRNGacR"
   },
   "source": [
    "# **EN502** - Machine Learning\n",
    "## Project: `Kaggle Titanic Challenge`\n",
    "\n",
    "---\n",
    "\n",
    "This `Python Notebook` predict whether a person onboard would have survived \"Titanic Disaster\", in accordance to the dataset provided.\n",
    "\n",
    "**Accuracy**: `80.382%` <br>\n",
    "**Kaggle Rank**: `500/14432` ⭐ TOP 3% ⭐\n",
    "\n",
    "||Team||\n",
    "|:--|:-:|--:|\n",
    "|Tanuj **Raghav**|19-11-EC-**027**|tanuj81_soe@jnu.ac.in|\n",
    "|Pragyan **Jaiminy**|19-11-EC-**028**|pragya32_soe@jnu.ac.in|\n",
    "|Pushpak **Prateek**|19-11-EC-**039**|pushpa89_soe@jnu.ac.in|"
   ]
  },
  {
   "cell_type": "code",
   "execution_count": 2,
   "metadata": {
    "executionInfo": {
     "elapsed": 459,
     "status": "ok",
     "timestamp": 1638414979949,
     "user": {
      "displayName": "Tanuj Raghav",
      "photoUrl": "https://lh3.googleusercontent.com/a-/AOh14GhR_GiAA1mbPb-jfiGWpZvxLyNNKmezuuWqU1P9=s64",
      "userId": "13472300881317662443"
     },
     "user_tz": -330
    },
    "id": "noFvO-RaGact"
   },
   "outputs": [],
   "source": [
    "# Importing Libraries\n",
    "import pandas as pd\n",
    "import warnings"
   ]
  },
  {
   "cell_type": "code",
   "execution_count": 3,
   "metadata": {
    "executionInfo": {
     "elapsed": 19,
     "status": "ok",
     "timestamp": 1638414980471,
     "user": {
      "displayName": "Tanuj Raghav",
      "photoUrl": "https://lh3.googleusercontent.com/a-/AOh14GhR_GiAA1mbPb-jfiGWpZvxLyNNKmezuuWqU1P9=s64",
      "userId": "13472300881317662443"
     },
     "user_tz": -330
    },
    "id": "DOv96gkJf_Rt"
   },
   "outputs": [],
   "source": [
    "warnings.filterwarnings('ignore')"
   ]
  },
  {
   "cell_type": "markdown",
   "metadata": {
    "id": "z7Fo9UmAGacu"
   },
   "source": [
    "## Understanding Training Dataset"
   ]
  },
  {
   "cell_type": "code",
   "execution_count": 4,
   "metadata": {
    "colab": {
     "base_uri": "https://localhost:8080/",
     "height": 206
    },
    "executionInfo": {
     "elapsed": 707,
     "status": "ok",
     "timestamp": 1638414981161,
     "user": {
      "displayName": "Tanuj Raghav",
      "photoUrl": "https://lh3.googleusercontent.com/a-/AOh14GhR_GiAA1mbPb-jfiGWpZvxLyNNKmezuuWqU1P9=s64",
      "userId": "13472300881317662443"
     },
     "user_tz": -330
    },
    "id": "y3_tqEAQGacu",
    "outputId": "8567112e-8b6b-46c2-b0df-e2cd5e9ac2bf"
   },
   "outputs": [
    {
     "data": {
      "text/html": [
       "<div>\n",
       "<style scoped>\n",
       "    .dataframe tbody tr th:only-of-type {\n",
       "        vertical-align: middle;\n",
       "    }\n",
       "\n",
       "    .dataframe tbody tr th {\n",
       "        vertical-align: top;\n",
       "    }\n",
       "\n",
       "    .dataframe thead th {\n",
       "        text-align: right;\n",
       "    }\n",
       "</style>\n",
       "<table border=\"1\" class=\"dataframe\">\n",
       "  <thead>\n",
       "    <tr style=\"text-align: right;\">\n",
       "      <th></th>\n",
       "      <th>PassengerId</th>\n",
       "      <th>Survived</th>\n",
       "      <th>Pclass</th>\n",
       "      <th>Name</th>\n",
       "      <th>Sex</th>\n",
       "      <th>Age</th>\n",
       "      <th>SibSp</th>\n",
       "      <th>Parch</th>\n",
       "      <th>Ticket</th>\n",
       "      <th>Fare</th>\n",
       "      <th>Cabin</th>\n",
       "      <th>Embarked</th>\n",
       "    </tr>\n",
       "  </thead>\n",
       "  <tbody>\n",
       "    <tr>\n",
       "      <th>0</th>\n",
       "      <td>1</td>\n",
       "      <td>0</td>\n",
       "      <td>3</td>\n",
       "      <td>Braund, Mr. Owen Harris</td>\n",
       "      <td>male</td>\n",
       "      <td>22.0</td>\n",
       "      <td>1</td>\n",
       "      <td>0</td>\n",
       "      <td>A/5 21171</td>\n",
       "      <td>7.2500</td>\n",
       "      <td>NaN</td>\n",
       "      <td>S</td>\n",
       "    </tr>\n",
       "    <tr>\n",
       "      <th>1</th>\n",
       "      <td>2</td>\n",
       "      <td>1</td>\n",
       "      <td>1</td>\n",
       "      <td>Cumings, Mrs. John Bradley (Florence Briggs Th...</td>\n",
       "      <td>female</td>\n",
       "      <td>38.0</td>\n",
       "      <td>1</td>\n",
       "      <td>0</td>\n",
       "      <td>PC 17599</td>\n",
       "      <td>71.2833</td>\n",
       "      <td>C85</td>\n",
       "      <td>C</td>\n",
       "    </tr>\n",
       "    <tr>\n",
       "      <th>2</th>\n",
       "      <td>3</td>\n",
       "      <td>1</td>\n",
       "      <td>3</td>\n",
       "      <td>Heikkinen, Miss. Laina</td>\n",
       "      <td>female</td>\n",
       "      <td>26.0</td>\n",
       "      <td>0</td>\n",
       "      <td>0</td>\n",
       "      <td>STON/O2. 3101282</td>\n",
       "      <td>7.9250</td>\n",
       "      <td>NaN</td>\n",
       "      <td>S</td>\n",
       "    </tr>\n",
       "    <tr>\n",
       "      <th>3</th>\n",
       "      <td>4</td>\n",
       "      <td>1</td>\n",
       "      <td>1</td>\n",
       "      <td>Futrelle, Mrs. Jacques Heath (Lily May Peel)</td>\n",
       "      <td>female</td>\n",
       "      <td>35.0</td>\n",
       "      <td>1</td>\n",
       "      <td>0</td>\n",
       "      <td>113803</td>\n",
       "      <td>53.1000</td>\n",
       "      <td>C123</td>\n",
       "      <td>S</td>\n",
       "    </tr>\n",
       "    <tr>\n",
       "      <th>4</th>\n",
       "      <td>5</td>\n",
       "      <td>0</td>\n",
       "      <td>3</td>\n",
       "      <td>Allen, Mr. William Henry</td>\n",
       "      <td>male</td>\n",
       "      <td>35.0</td>\n",
       "      <td>0</td>\n",
       "      <td>0</td>\n",
       "      <td>373450</td>\n",
       "      <td>8.0500</td>\n",
       "      <td>NaN</td>\n",
       "      <td>S</td>\n",
       "    </tr>\n",
       "  </tbody>\n",
       "</table>\n",
       "</div>"
      ],
      "text/plain": [
       "   PassengerId  Survived  Pclass  \\\n",
       "0            1         0       3   \n",
       "1            2         1       1   \n",
       "2            3         1       3   \n",
       "3            4         1       1   \n",
       "4            5         0       3   \n",
       "\n",
       "                                                Name     Sex   Age  SibSp  \\\n",
       "0                            Braund, Mr. Owen Harris    male  22.0      1   \n",
       "1  Cumings, Mrs. John Bradley (Florence Briggs Th...  female  38.0      1   \n",
       "2                             Heikkinen, Miss. Laina  female  26.0      0   \n",
       "3       Futrelle, Mrs. Jacques Heath (Lily May Peel)  female  35.0      1   \n",
       "4                           Allen, Mr. William Henry    male  35.0      0   \n",
       "\n",
       "   Parch            Ticket     Fare Cabin Embarked  \n",
       "0      0         A/5 21171   7.2500   NaN        S  \n",
       "1      0          PC 17599  71.2833   C85        C  \n",
       "2      0  STON/O2. 3101282   7.9250   NaN        S  \n",
       "3      0            113803  53.1000  C123        S  \n",
       "4      0            373450   8.0500   NaN        S  "
      ]
     },
     "execution_count": 4,
     "metadata": {},
     "output_type": "execute_result"
    }
   ],
   "source": [
    "# Titanic Training Dataset\n",
    "train = pd.read_csv(\"https://gist.github.com/tanujraghav/b35f9f20d5f6bd6cf19ba5fa43c4616f/raw/550946ba89f4a8b0a32ee4725e0c98ebf722a13a/train.csv\")\n",
    "\n",
    "train.head()"
   ]
  },
  {
   "cell_type": "markdown",
   "metadata": {
    "id": "mjAH5mDYGacw"
   },
   "source": [
    "## Feature Engineering"
   ]
  },
  {
   "cell_type": "code",
   "execution_count": 5,
   "metadata": {
    "executionInfo": {
     "elapsed": 25,
     "status": "ok",
     "timestamp": 1638414981163,
     "user": {
      "displayName": "Tanuj Raghav",
      "photoUrl": "https://lh3.googleusercontent.com/a-/AOh14GhR_GiAA1mbPb-jfiGWpZvxLyNNKmezuuWqU1P9=s64",
      "userId": "13472300881317662443"
     },
     "user_tz": -330
    },
    "id": "TfxozSO_Gacw"
   },
   "outputs": [],
   "source": [
    "def clean(df):\n",
    "\n",
    "  df['Title'] = df.Name.apply(lambda x: x.split(',')[1].split(' ')[1]).map({\n",
    "      'Mr.': 0, 'Dr.': 0,\n",
    "      'Major.': 1, 'Col.': 1, 'Capt.': 1,\n",
    "      'Mrs.': 2, 'Mme.': 2,\n",
    "      'Miss.': 3, 'Mlle.': 3, 'Ms.': 3,\n",
    "      'Master.': 4,\n",
    "      'Don.': 5, 'Dona.': 5, 'Rev.': 5, 'Jonkheer.': 5,\n",
    "      'Lady.': 6, 'Sir.': 6, 'the': 6\n",
    "      })\n",
    "\n",
    "  df['NameLen'] = df.Name.apply(lambda x: len(x))\n",
    "\n",
    "  df['Surname'] = df.Name.apply(lambda x: x.split(',')[0])\n",
    "\n",
    "  def all_died(surname):\n",
    "    if train[train.Surname == surname].Survived.count() < 2:\n",
    "      return 0\n",
    "    else:\n",
    "      if train[train.Surname == surname].Survived.sum() == 0:\n",
    "        return 1\n",
    "      else:\n",
    "        return 0\n",
    "\n",
    "  df['SurnameAllDied'] = df.Surname.apply(all_died)\n",
    "\n",
    "  def one_lived(surname):\n",
    "    if train[train.Surname == surname].Survived.count() < 2:\n",
    "      return 0\n",
    "    else:\n",
    "      if train[train.Surname == surname].Survived.sum() == 0:\n",
    "        return 0\n",
    "      else:\n",
    "        return 1\n",
    "\n",
    "  df['SurnameOneLived'] = df.Surname.apply(one_lived)\n",
    "\n",
    "  df.Sex = df.Sex.map({'female' :0, 'male': 1})\n",
    "\n",
    "  k = {}\n",
    "\n",
    "  for i in df.Title:\n",
    "    k[i] = df.Age[df.Age.notnull() & (df.Title == i)].mean()\n",
    "\n",
    "  for i, j in df.iterrows():\n",
    "    if j.Age != j.Age:\n",
    "      df.loc[i, 'Age'] = k[j.Title]\n",
    "\n",
    "  df.Age = pd.cut(df.Age, [0, 14, 24, 64, 80], labels = [0, 1, 2, 3])\n",
    "\n",
    "  df['FamilySize'] = df.SibSp + df.Parch + 1\n",
    "  df['FamilyType'] = pd.cut(df.FamilySize, [0, 1, 4, 7, 12], labels = [0, 1, 2, 3])\n",
    "\n",
    "  for i in range(1, 4):\n",
    "    x = df.Fare[df.Pclass == i]\n",
    "    df.Fare[df.Pclass == i] = pd.cut(x.fillna(x.median()), [x.min() - 0.01, x.median(), x.mean(), x.max() + 0.01], labels = [0, 1, 2])\n",
    "\n",
    "  df.Fare = df.Fare.map({0: 0, 1: 1, 2: 2})\n",
    "\n",
    "  df.Cabin.fillna(\"I123\", inplace = True)\n",
    "  df['Deck'] = df.Cabin.apply(lambda x: ord(x[0]) - 65).replace(19, 7)\n",
    "\n",
    "  df.Embarked = df.Embarked.fillna(df.Embarked.mode()[0]).map({'C': 0, 'Q': 1, 'S': 2})\n",
    "\n",
    "  df = df.drop(['Name', 'Ticket', 'Cabin'], axis = 1)\n",
    "\n",
    "  return df"
   ]
  },
  {
   "cell_type": "code",
   "execution_count": 5,
   "metadata": {
    "colab": {
     "base_uri": "https://localhost:8080/",
     "height": 226
    },
    "executionInfo": {
     "elapsed": 2976,
     "status": "ok",
     "timestamp": 1638414984116,
     "user": {
      "displayName": "Tanuj Raghav",
      "photoUrl": "https://lh3.googleusercontent.com/a-/AOh14GhR_GiAA1mbPb-jfiGWpZvxLyNNKmezuuWqU1P9=s64",
      "userId": "13472300881317662443"
     },
     "user_tz": -330
    },
    "id": "BIOdC2b0Gacy",
    "outputId": "b8e9bccf-b0dd-4b54-f4f4-657696f5c6f0"
   },
   "outputs": [
    {
     "data": {
      "text/html": [
       "<div>\n",
       "<style scoped>\n",
       "    .dataframe tbody tr th:only-of-type {\n",
       "        vertical-align: middle;\n",
       "    }\n",
       "\n",
       "    .dataframe tbody tr th {\n",
       "        vertical-align: top;\n",
       "    }\n",
       "\n",
       "    .dataframe thead th {\n",
       "        text-align: right;\n",
       "    }\n",
       "</style>\n",
       "<table border=\"1\" class=\"dataframe\">\n",
       "  <thead>\n",
       "    <tr style=\"text-align: right;\">\n",
       "      <th></th>\n",
       "      <th>PassengerId</th>\n",
       "      <th>Survived</th>\n",
       "      <th>Pclass</th>\n",
       "      <th>Sex</th>\n",
       "      <th>Age</th>\n",
       "      <th>SibSp</th>\n",
       "      <th>Parch</th>\n",
       "      <th>Fare</th>\n",
       "      <th>Embarked</th>\n",
       "      <th>Title</th>\n",
       "      <th>NameLen</th>\n",
       "      <th>Surname</th>\n",
       "      <th>SurnameAllDied</th>\n",
       "      <th>SurnameOneLived</th>\n",
       "      <th>FamilySize</th>\n",
       "      <th>FamilyType</th>\n",
       "      <th>Deck</th>\n",
       "    </tr>\n",
       "  </thead>\n",
       "  <tbody>\n",
       "    <tr>\n",
       "      <th>0</th>\n",
       "      <td>1</td>\n",
       "      <td>0</td>\n",
       "      <td>3</td>\n",
       "      <td>1</td>\n",
       "      <td>1</td>\n",
       "      <td>1</td>\n",
       "      <td>0</td>\n",
       "      <td>0</td>\n",
       "      <td>2</td>\n",
       "      <td>0</td>\n",
       "      <td>23</td>\n",
       "      <td>Braund</td>\n",
       "      <td>1</td>\n",
       "      <td>0</td>\n",
       "      <td>2</td>\n",
       "      <td>1</td>\n",
       "      <td>8</td>\n",
       "    </tr>\n",
       "    <tr>\n",
       "      <th>1</th>\n",
       "      <td>2</td>\n",
       "      <td>1</td>\n",
       "      <td>1</td>\n",
       "      <td>0</td>\n",
       "      <td>2</td>\n",
       "      <td>1</td>\n",
       "      <td>0</td>\n",
       "      <td>1</td>\n",
       "      <td>0</td>\n",
       "      <td>2</td>\n",
       "      <td>51</td>\n",
       "      <td>Cumings</td>\n",
       "      <td>0</td>\n",
       "      <td>0</td>\n",
       "      <td>2</td>\n",
       "      <td>1</td>\n",
       "      <td>2</td>\n",
       "    </tr>\n",
       "    <tr>\n",
       "      <th>2</th>\n",
       "      <td>3</td>\n",
       "      <td>1</td>\n",
       "      <td>3</td>\n",
       "      <td>0</td>\n",
       "      <td>2</td>\n",
       "      <td>0</td>\n",
       "      <td>0</td>\n",
       "      <td>0</td>\n",
       "      <td>2</td>\n",
       "      <td>3</td>\n",
       "      <td>22</td>\n",
       "      <td>Heikkinen</td>\n",
       "      <td>0</td>\n",
       "      <td>0</td>\n",
       "      <td>1</td>\n",
       "      <td>0</td>\n",
       "      <td>8</td>\n",
       "    </tr>\n",
       "    <tr>\n",
       "      <th>3</th>\n",
       "      <td>4</td>\n",
       "      <td>1</td>\n",
       "      <td>1</td>\n",
       "      <td>0</td>\n",
       "      <td>2</td>\n",
       "      <td>1</td>\n",
       "      <td>0</td>\n",
       "      <td>0</td>\n",
       "      <td>2</td>\n",
       "      <td>2</td>\n",
       "      <td>44</td>\n",
       "      <td>Futrelle</td>\n",
       "      <td>0</td>\n",
       "      <td>1</td>\n",
       "      <td>2</td>\n",
       "      <td>1</td>\n",
       "      <td>2</td>\n",
       "    </tr>\n",
       "    <tr>\n",
       "      <th>4</th>\n",
       "      <td>5</td>\n",
       "      <td>0</td>\n",
       "      <td>3</td>\n",
       "      <td>1</td>\n",
       "      <td>2</td>\n",
       "      <td>0</td>\n",
       "      <td>0</td>\n",
       "      <td>0</td>\n",
       "      <td>2</td>\n",
       "      <td>0</td>\n",
       "      <td>24</td>\n",
       "      <td>Allen</td>\n",
       "      <td>0</td>\n",
       "      <td>1</td>\n",
       "      <td>1</td>\n",
       "      <td>0</td>\n",
       "      <td>8</td>\n",
       "    </tr>\n",
       "  </tbody>\n",
       "</table>\n",
       "</div>"
      ],
      "text/plain": [
       "   PassengerId  Survived  Pclass  ...  FamilySize FamilyType  Deck\n",
       "0            1         0       3  ...           2          1     8\n",
       "1            2         1       1  ...           2          1     2\n",
       "2            3         1       3  ...           1          0     8\n",
       "3            4         1       1  ...           2          1     2\n",
       "4            5         0       3  ...           1          0     8\n",
       "\n",
       "[5 rows x 17 columns]"
      ]
     },
     "execution_count": 5,
     "metadata": {},
     "output_type": "execute_result"
    }
   ],
   "source": [
    "# Cleaning Training Dataset\n",
    "train = clean(train)\n",
    "\n",
    "train.head()"
   ]
  },
  {
   "cell_type": "markdown",
   "metadata": {
    "id": "r3c85KQ3Gacy"
   },
   "source": [
    "## Machine Learning"
   ]
  },
  {
   "cell_type": "code",
   "execution_count": 6,
   "metadata": {
    "executionInfo": {
     "elapsed": 46,
     "status": "ok",
     "timestamp": 1638414984118,
     "user": {
      "displayName": "Tanuj Raghav",
      "photoUrl": "https://lh3.googleusercontent.com/a-/AOh14GhR_GiAA1mbPb-jfiGWpZvxLyNNKmezuuWqU1P9=s64",
      "userId": "13472300881317662443"
     },
     "user_tz": -330
    },
    "id": "Zh_MM3HpGacz"
   },
   "outputs": [
    {
     "ename": "ModuleNotFoundError",
     "evalue": "No module named 'sklearn'",
     "output_type": "error",
     "traceback": [
      "\u001b[0;31m---------------------------------------------------------------------------\u001b[0m",
      "\u001b[0;31mModuleNotFoundError\u001b[0m                       Traceback (most recent call last)",
      "\u001b[0;32m/tmp/ipykernel_328191/649511844.py\u001b[0m in \u001b[0;36m<module>\u001b[0;34m\u001b[0m\n\u001b[1;32m      1\u001b[0m \u001b[0;31m# Accuracy Score Metric\u001b[0m\u001b[0;34m\u001b[0m\u001b[0;34m\u001b[0m\u001b[0;34m\u001b[0m\u001b[0m\n\u001b[0;32m----> 2\u001b[0;31m \u001b[0;32mfrom\u001b[0m \u001b[0msklearn\u001b[0m\u001b[0;34m.\u001b[0m\u001b[0mmetrics\u001b[0m \u001b[0;32mimport\u001b[0m \u001b[0maccuracy_score\u001b[0m \u001b[0;32mas\u001b[0m \u001b[0macc\u001b[0m\u001b[0;34m\u001b[0m\u001b[0;34m\u001b[0m\u001b[0m\n\u001b[0m",
      "\u001b[0;31mModuleNotFoundError\u001b[0m: No module named 'sklearn'"
     ]
    }
   ],
   "source": [
    "# Accuracy Score Metric\n",
    "from sklearn.metrics import accuracy_score as acc"
   ]
  },
  {
   "cell_type": "code",
   "execution_count": null,
   "metadata": {
    "executionInfo": {
     "elapsed": 41,
     "status": "ok",
     "timestamp": 1638414984119,
     "user": {
      "displayName": "Tanuj Raghav",
      "photoUrl": "https://lh3.googleusercontent.com/a-/AOh14GhR_GiAA1mbPb-jfiGWpZvxLyNNKmezuuWqU1P9=s64",
      "userId": "13472300881317662443"
     },
     "user_tz": -330
    },
    "id": "WsxARwVaGac0"
   },
   "outputs": [],
   "source": [
    "# Splitting up Dataset into \"Dependent Variables\" and \"Independent Variables\"\n",
    "X = train.drop(['PassengerId', 'Survived', 'Surname'], axis=1)\n",
    "Y = train.Survived"
   ]
  },
  {
   "cell_type": "code",
   "execution_count": null,
   "metadata": {
    "colab": {
     "base_uri": "https://localhost:8080/"
    },
    "executionInfo": {
     "elapsed": 39,
     "status": "ok",
     "timestamp": 1638414984122,
     "user": {
      "displayName": "Tanuj Raghav",
      "photoUrl": "https://lh3.googleusercontent.com/a-/AOh14GhR_GiAA1mbPb-jfiGWpZvxLyNNKmezuuWqU1P9=s64",
      "userId": "13472300881317662443"
     },
     "user_tz": -330
    },
    "id": "vj3h94BQiEoH",
    "outputId": "108dc0de-d938-433d-d7e3-08e28d4b9f41"
   },
   "outputs": [],
   "source": [
    "# Logistic Regression: 80.382\n",
    "from sklearn.linear_model import LogisticRegression as LR\n",
    "\n",
    "model = LR(max_iter = 500, solver='sag').fit(X, Y)\n",
    "Z = model.predict(X)\n",
    "\n",
    "acc(Z, Y)"
   ]
  },
  {
   "cell_type": "markdown",
   "metadata": {
    "id": "BU_kYQnnGac7"
   },
   "source": [
    "## Predicting Survival Rate for Testing Dataset"
   ]
  },
  {
   "cell_type": "code",
   "execution_count": null,
   "metadata": {
    "colab": {
     "base_uri": "https://localhost:8080/",
     "height": 206
    },
    "executionInfo": {
     "elapsed": 26,
     "status": "ok",
     "timestamp": 1638414984124,
     "user": {
      "displayName": "Tanuj Raghav",
      "photoUrl": "https://lh3.googleusercontent.com/a-/AOh14GhR_GiAA1mbPb-jfiGWpZvxLyNNKmezuuWqU1P9=s64",
      "userId": "13472300881317662443"
     },
     "user_tz": -330
    },
    "id": "NrttEbPyGac7",
    "outputId": "3f9ac05c-b23c-4312-c42a-025610c3c294"
   },
   "outputs": [],
   "source": [
    "# Titanic Testing Dataset\n",
    "test = pd.read_csv(\"https://gist.github.com/tanujraghav/b35f9f20d5f6bd6cf19ba5fa43c4616f/raw/550946ba89f4a8b0a32ee4725e0c98ebf722a13a/test.csv\")\n",
    "\n",
    "test.head()"
   ]
  },
  {
   "cell_type": "code",
   "execution_count": null,
   "metadata": {
    "colab": {
     "base_uri": "https://localhost:8080/",
     "height": 206
    },
    "executionInfo": {
     "elapsed": 1522,
     "status": "ok",
     "timestamp": 1638414985623,
     "user": {
      "displayName": "Tanuj Raghav",
      "photoUrl": "https://lh3.googleusercontent.com/a-/AOh14GhR_GiAA1mbPb-jfiGWpZvxLyNNKmezuuWqU1P9=s64",
      "userId": "13472300881317662443"
     },
     "user_tz": -330
    },
    "id": "ga08MqrZGac9",
    "outputId": "8a83630f-9a39-4941-ec69-18bf26b9c836"
   },
   "outputs": [],
   "source": [
    "# Cleaning Testing Dataset\n",
    "test.Fare[test.Fare.isnull() == True] = test.Fare[test.Pclass == 3].median()\n",
    "test = clean(test)\n",
    "\n",
    "test.head()"
   ]
  },
  {
   "cell_type": "code",
   "execution_count": null,
   "metadata": {
    "colab": {
     "base_uri": "https://localhost:8080/"
    },
    "executionInfo": {
     "elapsed": 56,
     "status": "ok",
     "timestamp": 1638414985628,
     "user": {
      "displayName": "Tanuj Raghav",
      "photoUrl": "https://lh3.googleusercontent.com/a-/AOh14GhR_GiAA1mbPb-jfiGWpZvxLyNNKmezuuWqU1P9=s64",
      "userId": "13472300881317662443"
     },
     "user_tz": -330
    },
    "id": "wBhw_DH3Gac9",
    "outputId": "c88fc0c1-3d3d-4ec4-d7b2-9e9828456840"
   },
   "outputs": [],
   "source": [
    "# Predicting Survival Status for Test Dataset\n",
    "prediction = model.predict(test.drop(['PassengerId', 'Surname'], axis=1))\n",
    "\n",
    "prediction"
   ]
  },
  {
   "cell_type": "markdown",
   "metadata": {
    "id": "LKEvz1AxGac-"
   },
   "source": [
    "## Setting up Submission"
   ]
  },
  {
   "cell_type": "code",
   "execution_count": null,
   "metadata": {
    "colab": {
     "base_uri": "https://localhost:8080/",
     "height": 206
    },
    "executionInfo": {
     "elapsed": 43,
     "status": "ok",
     "timestamp": 1638414985631,
     "user": {
      "displayName": "Tanuj Raghav",
      "photoUrl": "https://lh3.googleusercontent.com/a-/AOh14GhR_GiAA1mbPb-jfiGWpZvxLyNNKmezuuWqU1P9=s64",
      "userId": "13472300881317662443"
     },
     "user_tz": -330
    },
    "id": "uWnzPJD7Gac-",
    "outputId": "f9102b60-cab9-470e-994f-7ff571112071"
   },
   "outputs": [],
   "source": [
    "submission = pd.DataFrame({\n",
    "    'PassengerId': test.PassengerId,\n",
    "    'Survived': prediction\n",
    "})\n",
    "\n",
    "submission.head()"
   ]
  },
  {
   "cell_type": "code",
   "execution_count": null,
   "metadata": {
    "executionInfo": {
     "elapsed": 7,
     "status": "ok",
     "timestamp": 1638414986302,
     "user": {
      "displayName": "Tanuj Raghav",
      "photoUrl": "https://lh3.googleusercontent.com/a-/AOh14GhR_GiAA1mbPb-jfiGWpZvxLyNNKmezuuWqU1P9=s64",
      "userId": "13472300881317662443"
     },
     "user_tz": -330
    },
    "id": "ctRfdK3XGac_"
   },
   "outputs": [],
   "source": [
    "submission.to_csv(\"submission.csv\", index = False)"
   ]
  },
  {
   "cell_type": "code",
   "execution_count": null,
   "metadata": {},
   "outputs": [],
   "source": []
  }
 ],
 "metadata": {
  "colab": {
   "authorship_tag": "ABX9TyMo+DcVS2RfjhVMK4EvJg8l",
   "collapsed_sections": [],
   "name": "EN502 - Machine Learning: Project - \"Titanic\" Kaggle Challenge.ipynb",
   "provenance": []
  },
  "kernelspec": {
   "display_name": "Python 3 (ipykernel)",
   "language": "python",
   "name": "python3"
  },
  "language_info": {
   "codemirror_mode": {
    "name": "ipython",
    "version": 3
   },
   "file_extension": ".py",
   "mimetype": "text/x-python",
   "name": "python",
   "nbconvert_exporter": "python",
   "pygments_lexer": "ipython3",
   "version": "3.8.10"
  }
 },
 "nbformat": 4,
 "nbformat_minor": 1
}
